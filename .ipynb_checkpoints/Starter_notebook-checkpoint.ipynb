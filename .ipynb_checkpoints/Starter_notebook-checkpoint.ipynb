{
 "cells": [
  {
   "cell_type": "markdown",
   "metadata": {
    "colab_type": "text",
    "id": "view-in-github"
   },
   "source": [
    "<a href=\"https://colab.research.google.com/github/DeeeTeeee/DeeeTeeee/blob/main/Starter_notebook.ipynb\" target=\"_parent\"><img src=\"https://colab.research.google.com/assets/colab-badge.svg\" alt=\"Open In Colab\"/></a>"
   ]
  },
  {
   "cell_type": "markdown",
   "metadata": {
    "id": "SoZGjB_9Uiij"
   },
   "source": [
    "# IMPORTANT\n",
    "\n",
    "## Install latest version of packages to be used in the code\n",
    "\n",
    "The latest version of libraries need to be installed as per competition rules and kindly adhere to that and install the updated version of libraries in the code.\n",
    "\n",
    "## Please set random seed so that reproducible answers are attained\n",
    "\n",
    "Wherever randomness is expected, do select the random seed so that the results are reproducible. Reproducibility of results is a **very important** component of model development without which reliable models are not attained."
   ]
  },
  {
   "cell_type": "code",
   "execution_count": null,
   "metadata": {
    "colab": {
     "base_uri": "https://localhost:8080/"
    },
    "id": "MQtYzQLJkYdw",
    "outputId": "9bd27745-6eb6-4be7-884b-d9f63dbe6913"
   },
   "outputs": [
    {
     "name": "stdout",
     "output_type": "stream",
     "text": [
      "Mounted at /content/drive\n"
     ]
    }
   ],
   "source": [
    "from google.colab import drive\n",
    "drive.mount('/content/drive')"
   ]
  },
  {
   "cell_type": "code",
   "execution_count": null,
   "metadata": {
    "id": "lQwlZYxAH3Pn"
   },
   "outputs": [],
   "source": [
    "# #load data;\n",
    "# from google.colab import files\n",
    "# files.upload()"
   ]
  },
  {
   "cell_type": "code",
   "execution_count": null,
   "metadata": {
    "colab": {
     "base_uri": "https://localhost:8080/"
    },
    "id": "3Wjp74XdUQta",
    "outputId": "822425c4-1d8a-4178-fe4f-db5ce5c65b57"
   },
   "outputs": [
    {
     "name": "stdout",
     "output_type": "stream",
     "text": [
      "Collecting catboost\n",
      "  Downloading catboost-1.2.1-cp310-cp310-manylinux2014_x86_64.whl (98.7 MB)\n",
      "\u001b[2K     \u001b[90m━━━━━━━━━━━━━━━━━━━━━━━━━━━━━━━━━━━━━━━━\u001b[0m \u001b[32m98.7/98.7 MB\u001b[0m \u001b[31m6.4 MB/s\u001b[0m eta \u001b[36m0:00:00\u001b[0m\n",
      "\u001b[?25hRequirement already satisfied: graphviz in /usr/local/lib/python3.10/dist-packages (from catboost) (0.20.1)\n",
      "Requirement already satisfied: matplotlib in /usr/local/lib/python3.10/dist-packages (from catboost) (3.7.1)\n",
      "Requirement already satisfied: numpy>=1.16.0 in /usr/local/lib/python3.10/dist-packages (from catboost) (1.23.5)\n",
      "Requirement already satisfied: pandas>=0.24 in /usr/local/lib/python3.10/dist-packages (from catboost) (1.5.3)\n",
      "Requirement already satisfied: scipy in /usr/local/lib/python3.10/dist-packages (from catboost) (1.10.1)\n",
      "Requirement already satisfied: plotly in /usr/local/lib/python3.10/dist-packages (from catboost) (5.15.0)\n",
      "Requirement already satisfied: six in /usr/local/lib/python3.10/dist-packages (from catboost) (1.16.0)\n",
      "Requirement already satisfied: python-dateutil>=2.8.1 in /usr/local/lib/python3.10/dist-packages (from pandas>=0.24->catboost) (2.8.2)\n",
      "Requirement already satisfied: pytz>=2020.1 in /usr/local/lib/python3.10/dist-packages (from pandas>=0.24->catboost) (2023.3.post1)\n",
      "Requirement already satisfied: contourpy>=1.0.1 in /usr/local/lib/python3.10/dist-packages (from matplotlib->catboost) (1.1.0)\n",
      "Requirement already satisfied: cycler>=0.10 in /usr/local/lib/python3.10/dist-packages (from matplotlib->catboost) (0.11.0)\n",
      "Requirement already satisfied: fonttools>=4.22.0 in /usr/local/lib/python3.10/dist-packages (from matplotlib->catboost) (4.42.1)\n",
      "Requirement already satisfied: kiwisolver>=1.0.1 in /usr/local/lib/python3.10/dist-packages (from matplotlib->catboost) (1.4.5)\n",
      "Requirement already satisfied: packaging>=20.0 in /usr/local/lib/python3.10/dist-packages (from matplotlib->catboost) (23.1)\n",
      "Requirement already satisfied: pillow>=6.2.0 in /usr/local/lib/python3.10/dist-packages (from matplotlib->catboost) (9.4.0)\n",
      "Requirement already satisfied: pyparsing>=2.3.1 in /usr/local/lib/python3.10/dist-packages (from matplotlib->catboost) (3.1.1)\n",
      "Requirement already satisfied: tenacity>=6.2.0 in /usr/local/lib/python3.10/dist-packages (from plotly->catboost) (8.2.3)\n",
      "Installing collected packages: catboost\n",
      "Successfully installed catboost-1.2.1\n",
      "Requirement already satisfied: termcolor in /usr/local/lib/python3.10/dist-packages (2.3.0)\n",
      "Collecting category_encoders\n",
      "  Downloading category_encoders-2.6.2-py2.py3-none-any.whl (81 kB)\n",
      "\u001b[2K     \u001b[90m━━━━━━━━━━━━━━━━━━━━━━━━━━━━━━━━━━━━━━━━\u001b[0m \u001b[32m81.8/81.8 kB\u001b[0m \u001b[31m2.0 MB/s\u001b[0m eta \u001b[36m0:00:00\u001b[0m\n",
      "\u001b[?25hRequirement already satisfied: numpy>=1.14.0 in /usr/local/lib/python3.10/dist-packages (from category_encoders) (1.23.5)\n",
      "Requirement already satisfied: scikit-learn>=0.20.0 in /usr/local/lib/python3.10/dist-packages (from category_encoders) (1.2.2)\n",
      "Requirement already satisfied: scipy>=1.0.0 in /usr/local/lib/python3.10/dist-packages (from category_encoders) (1.10.1)\n",
      "Requirement already satisfied: statsmodels>=0.9.0 in /usr/local/lib/python3.10/dist-packages (from category_encoders) (0.14.0)\n",
      "Requirement already satisfied: pandas>=1.0.5 in /usr/local/lib/python3.10/dist-packages (from category_encoders) (1.5.3)\n",
      "Requirement already satisfied: patsy>=0.5.1 in /usr/local/lib/python3.10/dist-packages (from category_encoders) (0.5.3)\n",
      "Requirement already satisfied: python-dateutil>=2.8.1 in /usr/local/lib/python3.10/dist-packages (from pandas>=1.0.5->category_encoders) (2.8.2)\n",
      "Requirement already satisfied: pytz>=2020.1 in /usr/local/lib/python3.10/dist-packages (from pandas>=1.0.5->category_encoders) (2023.3.post1)\n",
      "Requirement already satisfied: six in /usr/local/lib/python3.10/dist-packages (from patsy>=0.5.1->category_encoders) (1.16.0)\n",
      "Requirement already satisfied: joblib>=1.1.1 in /usr/local/lib/python3.10/dist-packages (from scikit-learn>=0.20.0->category_encoders) (1.3.2)\n",
      "Requirement already satisfied: threadpoolctl>=2.0.0 in /usr/local/lib/python3.10/dist-packages (from scikit-learn>=0.20.0->category_encoders) (3.2.0)\n",
      "Requirement already satisfied: packaging>=21.3 in /usr/local/lib/python3.10/dist-packages (from statsmodels>=0.9.0->category_encoders) (23.1)\n",
      "Installing collected packages: category_encoders\n",
      "Successfully installed category_encoders-2.6.2\n"
     ]
    }
   ],
   "source": [
    "!pip install -- catboost\n",
    "!pip install termcolor\n",
    "!pip install category_encoders\n"
   ]
  },
  {
   "cell_type": "code",
   "execution_count": null,
   "metadata": {
    "id": "fYI4nuYZUw3C"
   },
   "outputs": [],
   "source": [
    "from sklearn.preprocessing import StandardScaler\n",
    "import pandas as pd\n",
    "import numpy as np\n",
    "import os\n",
    "import seaborn as sns\n",
    "import matplotlib.pyplot as plt\n",
    "from termcolor import colored\n",
    "import plotly.express as px\n",
    "from sklearn.model_selection import train_test_split\n",
    "from imblearn.over_sampling import SMOTE\n",
    "from sklearn.preprocessing import StandardScaler\n",
    "from sklearn.tree import DecisionTreeClassifier\n",
    "from xgboost import XGBClassifier\n",
    "import category_encoders as ce\n",
    "from catboost import CatBoostClassifier\n",
    "from sklearn.metrics import f1_score, recall_score, precision_score, fbeta_score, accuracy_score, roc_auc_score\n",
    "from sklearn.metrics import confusion_matrix\n",
    "from sklearn.feature_selection import RFE\n",
    "from sklearn.model_selection import GridSearchCV\n",
    "from sklearn.ensemble import RandomForestClassifier\n",
    "import warnings\n",
    "#warnings.filterwarnings('always')\n",
    "warnings.filterwarnings(\"ignore\", category=DeprecationWarning)"
   ]
  },
  {
   "cell_type": "markdown",
   "metadata": {
    "id": "Sbf9wqJGU20y"
   },
   "source": [
    "## Loading test and train datasets\n",
    "\n",
    "We will load the train and test datasets and do some basic level of EDA to understand the pattern of features in the data\n",
    "\n",
    "* <b> Train data: </b> This is the data which we will be using to train the model. Since we are solving a classification problem, we will have a column in train dataset corresponding to the target labels.\n",
    "* <b> Test data: </b> This is the data on which the predictions will be made based on the model trained on train dataset.\n",
    "\n"
   ]
  },
  {
   "cell_type": "code",
   "execution_count": null,
   "metadata": {
    "id": "Es4uUithU2QZ"
   },
   "outputs": [],
   "source": [
    "#Loading Dataset\n",
    "train_data = pd.read_csv('https://raw.githubusercontent.com/MrDadzie/Income-Prediction-Project/master/Datasets/Train.csv')\n",
    "test_data = pd.read_csv('https://raw.githubusercontent.com/MrDadzie/Income-Prediction-Project/master/Datasets/Test.csv')"
   ]
  },
  {
   "cell_type": "markdown",
   "metadata": {
    "id": "dzaoDXeC8VW3"
   },
   "source": [
    "# Data Understanding\n"
   ]
  },
  {
   "cell_type": "markdown",
   "metadata": {
    "id": "_q9xOATDErX4"
   },
   "source": [
    "### Data Overview\n",
    "The data contains 209499 rows and 14 columns (including the target/ output column (`income_above_limit`) ). The data type is a mix of categorical and numeric data. We notice that there are no null values."
   ]
  },
  {
   "cell_type": "code",
   "execution_count": null,
   "metadata": {
    "colab": {
     "base_uri": "https://localhost:8080/"
    },
    "id": "UoPzo_dyBWdc",
    "outputId": "39a122ea-d2ac-4e00-9074-a4528970c2e1"
   },
   "outputs": [
    {
     "name": "stdout",
     "output_type": "stream",
     "text": [
      "Index(['ID', 'age', 'gender', 'education', 'class', 'education_institute',\n",
      "       'marital_status', 'race', 'is_hispanic', 'employment_commitment',\n",
      "       'unemployment_reason', 'employment_stat', 'wage_per_hour',\n",
      "       'is_labor_union', 'working_week_per_year', 'industry_code',\n",
      "       'industry_code_main', 'occupation_code', 'occupation_code_main',\n",
      "       'total_employed', 'household_stat', 'household_summary',\n",
      "       'under_18_family', 'veterans_admin_questionnaire', 'vet_benefit',\n",
      "       'tax_status', 'gains', 'losses', 'stocks_status', 'citizenship',\n",
      "       'mig_year', 'country_of_birth_own', 'country_of_birth_father',\n",
      "       'country_of_birth_mother', 'migration_code_change_in_msa',\n",
      "       'migration_prev_sunbelt', 'migration_code_move_within_reg',\n",
      "       'migration_code_change_in_reg', 'residence_1_year_ago',\n",
      "       'old_residence_reg', 'old_residence_state', 'importance_of_record',\n",
      "       'income_above_limit'],\n",
      "      dtype='object')\n",
      "..............................\n",
      "Index(['ID', 'age', 'gender', 'education', 'class', 'education_institute',\n",
      "       'marital_status', 'race', 'is_hispanic', 'employment_commitment',\n",
      "       'unemployment_reason', 'employment_stat', 'wage_per_hour',\n",
      "       'is_labor_union', 'working_week_per_year', 'industry_code',\n",
      "       'industry_code_main', 'occupation_code', 'occupation_code_main',\n",
      "       'total_employed', 'household_stat', 'household_summary',\n",
      "       'under_18_family', 'veterans_admin_questionnaire', 'vet_benefit',\n",
      "       'tax_status', 'gains', 'losses', 'stocks_status', 'citizenship',\n",
      "       'mig_year', 'country_of_birth_own', 'country_of_birth_father',\n",
      "       'country_of_birth_mother', 'migration_code_change_in_msa',\n",
      "       'migration_prev_sunbelt', 'migration_code_move_within_reg',\n",
      "       'migration_code_change_in_reg', 'residence_1_year_ago',\n",
      "       'old_residence_reg', 'old_residence_state', 'importance_of_record'],\n",
      "      dtype='object')\n"
     ]
    }
   ],
   "source": [
    "print(train_data.columns)\n",
    "print('..............................')\n",
    "print(test_data.columns)"
   ]
  },
  {
   "cell_type": "code",
   "execution_count": null,
   "metadata": {
    "id": "3wVllPLsFpJR"
   },
   "outputs": [],
   "source": [
    "#Target Column Encoding\n",
    "\n",
    "def convert_yes_no_to_binary(df, target_column_name):\n",
    "    df[target_column_name] = df[\"income_above_limit\"].map({\"Above limit\": 1, \"Below limit\": 0})\n",
    "    return df\n",
    "train_data = convert_yes_no_to_binary(train_data, \"income_above_limit\")\n"
   ]
  },
  {
   "cell_type": "code",
   "execution_count": null,
   "metadata": {
    "colab": {
     "base_uri": "https://localhost:8080/"
    },
    "id": "zGqyLLroMRX0",
    "outputId": "3cd23451-a43c-4da0-8c07-da30fbba7e25"
   },
   "outputs": [
    {
     "data": {
      "text/plain": [
       "0         0\n",
       "1         0\n",
       "2         0\n",
       "3         0\n",
       "4         0\n",
       "         ..\n",
       "209494    0\n",
       "209495    0\n",
       "209496    0\n",
       "209497    0\n",
       "209498    0\n",
       "Name: income_above_limit, Length: 209499, dtype: int64"
      ]
     },
     "execution_count": 8,
     "metadata": {},
     "output_type": "execute_result"
    }
   ],
   "source": [
    "train_data['income_above_limit']"
   ]
  },
  {
   "cell_type": "code",
   "execution_count": null,
   "metadata": {
    "colab": {
     "base_uri": "https://localhost:8080/"
    },
    "id": "d7AteFCcEqgF",
    "outputId": "93a6bd6f-f6bd-4d52-b9ab-7b5069a471f6"
   },
   "outputs": [
    {
     "data": {
      "text/plain": [
       " High school graduate                      50627\n",
       " Children                                  49685\n",
       " Some college but no degree                29320\n",
       " Bachelors degree(BA AB BS)                20979\n",
       " 7th and 8th grade                          8438\n",
       " 10th grade                                 7905\n",
       " 11th grade                                 7260\n",
       " Masters degree(MA MS MEng MEd MSW MBA)     6861\n",
       " 9th grade                                  6540\n",
       " Associates degree-occup /vocational        5650\n",
       " Associates degree-academic program         4494\n",
       " 5th or 6th grade                           3542\n",
       " 12th grade no diploma                      2282\n",
       " 1st 2nd 3rd or 4th grade                   1917\n",
       " Prof school degree (MD DDS DVM LLB JD)     1852\n",
       " Doctorate degree(PhD EdD)                  1318\n",
       " Less than 1st grade                         829\n",
       "Name: education, dtype: int64"
      ]
     },
     "execution_count": 9,
     "metadata": {},
     "output_type": "execute_result"
    }
   ],
   "source": [
    "train_data['education'].value_counts()"
   ]
  },
  {
   "cell_type": "code",
   "execution_count": null,
   "metadata": {
    "colab": {
     "base_uri": "https://localhost:8080/"
    },
    "id": "v8RWwHGDEqc9",
    "outputId": "08131a86-a336-44b5-f55d-2d136ac1b112"
   },
   "outputs": [
    {
     "data": {
      "text/plain": [
       " Never married                      90723\n",
       " Married-civilian spouse present    88407\n",
       " Divorced                           13456\n",
       " Widowed                            11029\n",
       " Separated                           3596\n",
       " Married-spouse absent               1568\n",
       " Married-A F spouse present           720\n",
       "Name: marital_status, dtype: int64"
      ]
     },
     "execution_count": 10,
     "metadata": {},
     "output_type": "execute_result"
    }
   ],
   "source": [
    "train_data['marital_status'].value_counts()"
   ]
  },
  {
   "cell_type": "markdown",
   "metadata": {
    "id": "5m658Js_xTPW"
   },
   "source": [
    "## Data Processing\n",
    "\n",
    "Here, the following is checked:\n",
    "\n",
    "* Custom Error checking\n",
    "* Missing Values and Methods of Dealing with them\n",
    "* Checking for Class"
   ]
  },
  {
   "cell_type": "markdown",
   "metadata": {
    "id": "xasbi7bRyLk7"
   },
   "source": [
    "### Custom Error Checking\n",
    "\n",
    "The columns of interest include:\n",
    "\n",
    "* Education\n",
    "* Marital Status\n",
    "\n"
   ]
  },
  {
   "cell_type": "code",
   "execution_count": null,
   "metadata": {
    "id": "o6pAhyTaEqnA"
   },
   "outputs": [],
   "source": [
    "# Remove leading/trailing whitespace and then replace \"?\"\n",
    "train_data['country_of_birth_own'] = train_data['country_of_birth_own'].str.strip()\n",
    "train_data['country_of_birth_own'] = train_data['country_of_birth_own'].replace('?', 'US')"
   ]
  },
  {
   "cell_type": "code",
   "execution_count": null,
   "metadata": {
    "id": "_nt8yJ5REqZd"
   },
   "outputs": [],
   "source": [
    "#education column on the train set:\n",
    "train_data['education'] = train_data['education'].str.strip()\n",
    "train_data['education'] = train_data['education'].replace(['Less than 1st grade','Children', '1st 2nd 3rd or 4th grade','5th or 6th grade', '7th and 8th grade','9th grade', '10th grade','11th grade', '12th grade no diploma'], 'left' )\n",
    "train_data['education'] = train_data['education'].replace('High school graduate', 'High School')\n",
    "train_data['education'] = train_data['education'].replace(['Some college but no degree','Associates degree-academic program','Associates degree-occup /vocational'],'Associate Degree')\n",
    "train_data['education'] = train_data['education'].replace('Bachelors degree(BA AB BS)', 'Undergrad')\n",
    "train_data['education'] = train_data['education'].replace(['Masters degree(MA MS MEng MEd MSW MBA)', 'Prof school degree (MD DDS DVM LLB JD)'], 'Grad')\n",
    "train_data['education'] = train_data['education'].replace('Masters degree(MA MS MEng MEd MSW MBA)', 'Grad')\n",
    "train_data['education'] = train_data['education'].replace('Doctorate degree(PhD EdD)', 'Doctorate')\n",
    "#teducation column on the test_data\n",
    "test_data['education'] = test_data['education'].str.strip()\n",
    "test_data['education'] = test_data['education'].replace(['Less than 1st grade','Children', '1st 2nd 3rd or 4th grade','5th or 6th grade', '7th and 8th grade','9th grade', '10th grade','11th grade', '12th grade no diploma'], 'left' )\n",
    "test_data['education'] = test_data['education'].replace('High school graduate', 'High School')\n",
    "test_data['education'] = test_data['education'].replace(['Some college but no degree','Associates degree-academic program','Associates degree-occup /vocational'],'Associate Degree')\n",
    "test_data['education'] = test_data['education'].replace('Bachelors degree(BA AB BS)', 'Undergrad')\n",
    "test_data['education'] = test_data['education'].replace(['Masters degree(MA MS MEng MEd MSW MBA)', 'Prof school degree (MD DDS DVM LLB JD)'], 'Grad')\n",
    "test_data['education'] = test_data['education'].replace('Masters degree(MA MS MEng MEd MSW MBA)', 'Grad')\n",
    "test_data['education'] = test_data['education'].replace('Doctorate degree(PhD EdD)', 'Doctorate')"
   ]
  },
  {
   "cell_type": "code",
   "execution_count": null,
   "metadata": {
    "id": "Z2VlCd8yEqVu"
   },
   "outputs": [],
   "source": [
    "train_data['marital_status'] = train_data['marital_status'].str.strip()\n",
    "train_data['marital_status'] = train_data['marital_status'].replace(['Married-civilian spouse present', 'Married-A F spouse present', 'Married-spouse absent'], 'Married')\n",
    "train_data['marital_status'] = train_data['marital_status'].replace('Never married', 'Single')\n",
    "\n",
    "# Do the same for the test_data\n",
    "test_data['marital_status'] = test_data['marital_status'].str.strip()\n",
    "test_data['marital_status'] = test_data['marital_status'].replace(['Married-civilian spouse present', 'Married-A F spouse present', 'Married-spouse absent'], 'Married')\n",
    "test_data['marital_status'] = test_data['marital_status'].replace('Never married', 'Single')\n"
   ]
  },
  {
   "cell_type": "markdown",
   "metadata": {
    "id": "c2hElI2s0PS7"
   },
   "source": [
    "### Missing Values"
   ]
  },
  {
   "cell_type": "code",
   "execution_count": null,
   "metadata": {
    "colab": {
     "base_uri": "https://localhost:8080/"
    },
    "id": "EB_V6DB2E5Cr",
    "outputId": "08d4b48c-8de3-4623-c01e-5ed9238486d4"
   },
   "outputs": [
    {
     "data": {
      "text/plain": [
       "ID                                     0\n",
       "age                                    0\n",
       "gender                                 0\n",
       "education                              0\n",
       "class                             105245\n",
       "education_institute               196197\n",
       "marital_status                         0\n",
       "race                                   0\n",
       "is_hispanic                            0\n",
       "employment_commitment                  0\n",
       "unemployment_reason               202979\n",
       "employment_stat                        0\n",
       "wage_per_hour                          0\n",
       "is_labor_union                    189420\n",
       "working_week_per_year                  0\n",
       "industry_code                          0\n",
       "industry_code_main                     0\n",
       "occupation_code                        0\n",
       "occupation_code_main              105694\n",
       "total_employed                         0\n",
       "household_stat                         0\n",
       "household_summary                      0\n",
       "under_18_family                   151654\n",
       "veterans_admin_questionnaire      207415\n",
       "vet_benefit                            0\n",
       "tax_status                             0\n",
       "gains                                  0\n",
       "losses                                 0\n",
       "stocks_status                          0\n",
       "citizenship                            0\n",
       "mig_year                               0\n",
       "country_of_birth_own                   0\n",
       "country_of_birth_father                0\n",
       "country_of_birth_mother                0\n",
       "migration_code_change_in_msa        1588\n",
       "migration_prev_sunbelt             88452\n",
       "migration_code_move_within_reg      1588\n",
       "migration_code_change_in_reg        1588\n",
       "residence_1_year_ago              106284\n",
       "old_residence_reg                 193148\n",
       "old_residence_state               193148\n",
       "importance_of_record                   0\n",
       "income_above_limit                     0\n",
       "dtype: int64"
      ]
     },
     "execution_count": 14,
     "metadata": {},
     "output_type": "execute_result"
    }
   ],
   "source": [
    "train_data.isnull().sum()"
   ]
  },
  {
   "cell_type": "markdown",
   "metadata": {
    "id": "8awNSuUV00_1"
   },
   "source": [
    "#### Nan Analysis\n",
    "\n",
    "* Columns with 50% or more missing values will be dropped.\n",
    "* Categorical columns with mising values less than 80 will be replaced by the mode in the column or by another class\n",
    "* Numerical columns with missing values will be replaced by either the mean or median depending on the nature of the outlier components.\n",
    "\n"
   ]
  },
  {
   "cell_type": "code",
   "execution_count": null,
   "metadata": {
    "id": "mz7k6tOOAAWN"
   },
   "outputs": [],
   "source": []
  },
  {
   "cell_type": "code",
   "execution_count": null,
   "metadata": {
    "id": "anAp-DddAAR3"
   },
   "outputs": [],
   "source": []
  },
  {
   "cell_type": "code",
   "execution_count": null,
   "metadata": {
    "id": "X7UUCl40AANg"
   },
   "outputs": [],
   "source": []
  },
  {
   "cell_type": "code",
   "execution_count": null,
   "metadata": {
    "id": "FMfgwlB-AAJr"
   },
   "outputs": [],
   "source": []
  },
  {
   "cell_type": "code",
   "execution_count": null,
   "metadata": {
    "id": "BzjFk-GKAAFY"
   },
   "outputs": [],
   "source": []
  },
  {
   "cell_type": "code",
   "execution_count": null,
   "metadata": {
    "id": "4D2jLVZHAAAZ"
   },
   "outputs": [],
   "source": []
  },
  {
   "cell_type": "code",
   "execution_count": null,
   "metadata": {
    "id": "8i6Kqids__72"
   },
   "outputs": [],
   "source": []
  },
  {
   "cell_type": "code",
   "execution_count": null,
   "metadata": {
    "id": "xVvQQs1s__32"
   },
   "outputs": [],
   "source": []
  },
  {
   "cell_type": "code",
   "execution_count": null,
   "metadata": {
    "id": "P1N36tTf__wX"
   },
   "outputs": [],
   "source": []
  },
  {
   "cell_type": "markdown",
   "metadata": {
    "id": "imgXN3M81x_H"
   },
   "source": [
    "##### Columns to drop"
   ]
  },
  {
   "cell_type": "code",
   "execution_count": null,
   "metadata": {
    "id": "xH-hRw2K0yL6"
   },
   "outputs": [],
   "source": [
    "nan_cols_drop  = []\n",
    "for cols in test_data.columns:\n",
    "    if test_data[cols].isna().sum()/test_data.shape[0] >=0.5:\n",
    "        nan_cols_drop.append(cols)"
   ]
  },
  {
   "cell_type": "code",
   "execution_count": null,
   "metadata": {
    "colab": {
     "base_uri": "https://localhost:8080/"
    },
    "id": "xvBKraiL1uPS",
    "outputId": "2e68b473-5b60-48b4-acda-c366d6e30493"
   },
   "outputs": [
    {
     "name": "stdout",
     "output_type": "stream",
     "text": [
      "We will drop the following columns from both train and test data: \n",
      "['class', 'education_institute', 'unemployment_reason', 'is_labor_union', 'occupation_code_main', 'under_18_family', 'veterans_admin_questionnaire', 'residence_1_year_ago', 'old_residence_reg', 'old_residence_state']\n"
     ]
    }
   ],
   "source": [
    "print(colored(f'We will drop the following columns from both train and test data: ','yellow',attrs=['bold']))\n",
    "print(nan_cols_drop)"
   ]
  },
  {
   "cell_type": "code",
   "execution_count": null,
   "metadata": {
    "id": "QkA-sQtS8RBq"
   },
   "outputs": [],
   "source": [
    "train_data.drop(nan_cols_drop, axis =1, inplace =True)\n",
    "test_data.drop(nan_cols_drop,axis =1, inplace =True)"
   ]
  },
  {
   "cell_type": "code",
   "execution_count": null,
   "metadata": {
    "id": "uxum4Px4NXvh"
   },
   "outputs": [],
   "source": [
    "#Dropping some more columns\n",
    "dropped_columns = ['ID','is_hispanic','employment_commitment', 'industry_code_main', 'household_stat',\n",
    "       'household_summary','country_of_birth_own', 'country_of_birth_father',\n",
    "       'country_of_birth_mother', 'migration_code_change_in_msa',\n",
    "       'migration_prev_sunbelt', 'migration_code_move_within_reg',\n",
    "       'migration_code_change_in_reg']\n",
    "\n",
    "train_data.drop(dropped_columns, axis =1, inplace =True)\n",
    "test_data.drop(dropped_columns, axis = 1 , inplace = True)"
   ]
  },
  {
   "cell_type": "markdown",
   "metadata": {
    "id": "nUUCf9LK13It"
   },
   "source": [
    "##### Categorical and Numerical columns"
   ]
  },
  {
   "cell_type": "code",
   "execution_count": null,
   "metadata": {
    "id": "AG9GqAgn3RO4"
   },
   "outputs": [],
   "source": [
    "cat_cols = train_data.select_dtypes(include = ['object']).columns\n",
    "num_cols = train_data.select_dtypes(exclude = ['object']).columns"
   ]
  },
  {
   "cell_type": "code",
   "execution_count": null,
   "metadata": {
    "colab": {
     "base_uri": "https://localhost:8080/"
    },
    "id": "gTgcsxdG-KGj",
    "outputId": "758fe44a-6476-4c37-c6d8-5b49150d4d58"
   },
   "outputs": [
    {
     "data": {
      "text/plain": [
       "Index(['gender', 'education', 'marital_status', 'race', 'tax_status',\n",
       "       'citizenship'],\n",
       "      dtype='object')"
      ]
     },
     "execution_count": 20,
     "metadata": {},
     "output_type": "execute_result"
    }
   ],
   "source": [
    "cat_cols"
   ]
  },
  {
   "cell_type": "code",
   "execution_count": null,
   "metadata": {
    "colab": {
     "base_uri": "https://localhost:8080/"
    },
    "id": "ffbow6kHO3BF",
    "outputId": "ea2e748f-eb40-4a7c-f0c7-a358d1ca957a"
   },
   "outputs": [
    {
     "data": {
      "text/plain": [
       "Index(['age', 'employment_stat', 'wage_per_hour', 'working_week_per_year',\n",
       "       'industry_code', 'occupation_code', 'total_employed', 'vet_benefit',\n",
       "       'gains', 'losses', 'stocks_status', 'mig_year', 'importance_of_record',\n",
       "       'income_above_limit'],\n",
       "      dtype='object')"
      ]
     },
     "execution_count": 21,
     "metadata": {},
     "output_type": "execute_result"
    }
   ],
   "source": [
    "num_cols"
   ]
  },
  {
   "cell_type": "code",
   "execution_count": null,
   "metadata": {
    "colab": {
     "base_uri": "https://localhost:8080/"
    },
    "id": "CD46tKeV41mL",
    "outputId": "71a16d26-661d-401b-be2a-8eb7c68585ad"
   },
   "outputs": [
    {
     "name": "stdout",
     "output_type": "stream",
     "text": [
      "<class 'pandas.core.frame.DataFrame'>\n",
      "RangeIndex: 209499 entries, 0 to 209498\n",
      "Data columns (total 20 columns):\n",
      " #   Column                 Non-Null Count   Dtype  \n",
      "---  ------                 --------------   -----  \n",
      " 0   age                    209499 non-null  int64  \n",
      " 1   gender                 209499 non-null  object \n",
      " 2   education              209499 non-null  object \n",
      " 3   marital_status         209499 non-null  object \n",
      " 4   race                   209499 non-null  object \n",
      " 5   employment_stat        209499 non-null  int64  \n",
      " 6   wage_per_hour          209499 non-null  int64  \n",
      " 7   working_week_per_year  209499 non-null  int64  \n",
      " 8   industry_code          209499 non-null  int64  \n",
      " 9   occupation_code        209499 non-null  int64  \n",
      " 10  total_employed         209499 non-null  int64  \n",
      " 11  vet_benefit            209499 non-null  int64  \n",
      " 12  tax_status             209499 non-null  object \n",
      " 13  gains                  209499 non-null  int64  \n",
      " 14  losses                 209499 non-null  int64  \n",
      " 15  stocks_status          209499 non-null  int64  \n",
      " 16  citizenship            209499 non-null  object \n",
      " 17  mig_year               209499 non-null  int64  \n",
      " 18  importance_of_record   209499 non-null  float64\n",
      " 19  income_above_limit     209499 non-null  int64  \n",
      "dtypes: float64(1), int64(13), object(6)\n",
      "memory usage: 32.0+ MB\n"
     ]
    }
   ],
   "source": [
    "train_data.info()"
   ]
  },
  {
   "cell_type": "code",
   "execution_count": null,
   "metadata": {
    "id": "uRcqLUnjPkua"
   },
   "outputs": [],
   "source": [
    "cat_data = train_data[cat_cols]\n",
    "num_data = train_data[num_cols]\n"
   ]
  },
  {
   "cell_type": "code",
   "execution_count": null,
   "metadata": {
    "id": "LGDoPTJLCUkW"
   },
   "outputs": [],
   "source": [
    "X = train_data.drop('income_above_limit', axis = 1)\n",
    "y = train_data['income_above_limit']\n",
    "\n",
    "#Data Splitting\n",
    "X_train, X_eval, y_train, y_eval = train_test_split(X,y, test_size = 0.2, random_state = 42, stratify = train_data['income_above_limit'])"
   ]
  },
  {
   "cell_type": "markdown",
   "metadata": {
    "id": "PK3Sr8302KqE"
   },
   "source": [
    "##### Encoder"
   ]
  },
  {
   "cell_type": "code",
   "execution_count": null,
   "metadata": {
    "id": "nniz_8P2QvZA"
   },
   "outputs": [],
   "source": [
    "encoder = ce.BinaryEncoder(cols= cat_cols)\n",
    "X_train_encoded = encoder.fit_transform(X_train)\n",
    "X_eval_encoded = encoder.transform(X_eval)"
   ]
  },
  {
   "cell_type": "markdown",
   "metadata": {
    "id": "svcs7Q4PRVbO"
   },
   "source": [
    "##### Scaler"
   ]
  },
  {
   "cell_type": "code",
   "execution_count": null,
   "metadata": {
    "id": "CcZbN_mcRZOI"
   },
   "outputs": [],
   "source": [
    "scaler = StandardScaler()\n",
    "X_train_scaled = scaler.fit_transform(X_train_encoded)\n",
    "X_eval_scaled = scaler.transform(X_eval_encoded)\n"
   ]
  },
  {
   "cell_type": "markdown",
   "metadata": {
    "id": "G-73THITxXWh"
   },
   "source": [
    "## Modelling"
   ]
  },
  {
   "cell_type": "markdown",
   "metadata": {
    "id": "PXTcQhH-TltB"
   },
   "source": [
    "##### Handling Class imbalance"
   ]
  },
  {
   "cell_type": "code",
   "execution_count": null,
   "metadata": {
    "colab": {
     "base_uri": "https://localhost:8080/",
     "height": 469
    },
    "id": "ORYzhnJUXd2p",
    "outputId": "3e874ce2-8439-43ad-93a8-6c1340d8e0ed"
   },
   "outputs": [
    {
     "data": {
      "image/png": "[encoded data removed]",
      "text/plain": [
       "<Figure size 640x480 with 1 Axes>"
      ]
     },
     "metadata": {},
     "output_type": "display_data"
    }
   ],
   "source": [
    "class_counts = y_train.value_counts()\n",
    "class_counts.index =['O','1']\n",
    "\n",
    "class_colors = ['green','red']\n",
    "\n",
    "# Create a bar plot\n",
    "ax = class_counts.plot(kind='bar',color = class_colors)\n",
    "plt.title('Class Imbalance', fontsize=11, fontweight='bold')\n",
    "plt.xlabel('Class', fontsize=9)\n",
    "plt.ylabel('Count', fontsize=9)\n",
    "\n",
    "#Rotate the labels on the x_axis\n",
    "ax.set_xticklabels(class_counts.index, rotation= 0)\n",
    "plt.show()"
   ]
  },
  {
   "cell_type": "code",
   "execution_count": null,
   "metadata": {
    "colab": {
     "base_uri": "https://localhost:8080/"
    },
    "id": "0P_zdpH35GpD",
    "outputId": "1af8b549-74ed-4e1c-b6e8-082477723624"
   },
   "outputs": [
    {
     "data": {
      "text/plain": [
       "((314402, 30), (314402,))"
      ]
     },
     "execution_count": 28,
     "metadata": {},
     "output_type": "execute_result"
    }
   ],
   "source": [
    "\n",
    "# Use Over-sampling/Under-sampling methods, more details here: https://imbalanced-learn.org/stable/install.html\n",
    "from imblearn.over_sampling import SMOTE\n",
    "oversample= SMOTE()\n",
    "X_train_resampled,y_train_resampled= oversample.fit_resample(X_train_scaled, y_train)\n",
    "X_train_resampled.shape,y_train_resampled.shape"
   ]
  },
  {
   "cell_type": "code",
   "execution_count": null,
   "metadata": {
    "colab": {
     "base_uri": "https://localhost:8080/"
    },
    "id": "pt1cJPkMOaGS",
    "outputId": "7e189130-198c-447a-c453-8f9b858e82a3"
   },
   "outputs": [
    {
     "data": {
      "text/plain": [
       "0    157201\n",
       "1    157201\n",
       "Name: income_above_limit, dtype: int64"
      ]
     },
     "execution_count": 29,
     "metadata": {},
     "output_type": "execute_result"
    }
   ],
   "source": [
    "y_train_resampled.value_counts()"
   ]
  },
  {
   "cell_type": "markdown",
   "metadata": {
    "id": "WAAEPdbw6fzx"
   },
   "source": [
    "#### Model Development\n",
    "\n",
    "1. Decision Tree Classifier\n",
    "2. XGBoost Classifier"
   ]
  },
  {
   "cell_type": "markdown",
   "metadata": {
    "id": "rBUFo_ZgQqqV"
   },
   "source": [
    "#### Decision Tree Classifier"
   ]
  },
  {
   "cell_type": "code",
   "execution_count": null,
   "metadata": {
    "colab": {
     "base_uri": "https://localhost:8080/",
     "height": 75
    },
    "id": "oG8HWJ4yT3tB",
    "outputId": "747a35d8-50fe-4d1d-c878-d8d26a729d99"
   },
   "outputs": [
    {
     "data": {
      "text/html": [
       "<style>#sk-container-id-1 {color: black;background-color: white;}#sk-container-id-1 pre{padding: 0;}#sk-container-id-1 div.sk-toggleable {background-color: white;}#sk-container-id-1 label.sk-toggleable__label {cursor: pointer;display: block;width: 100%;margin-bottom: 0;padding: 0.3em;box-sizing: border-box;text-align: center;}#sk-container-id-1 label.sk-toggleable__label-arrow:before {content: \"▸\";float: left;margin-right: 0.25em;color: #696969;}#sk-container-id-1 label.sk-toggleable__label-arrow:hover:before {color: black;}#sk-container-id-1 div.sk-estimator:hover label.sk-toggleable__label-arrow:before {color: black;}#sk-container-id-1 div.sk-toggleable__content {max-height: 0;max-width: 0;overflow: hidden;text-align: left;background-color: #f0f8ff;}#sk-container-id-1 div.sk-toggleable__content pre {margin: 0.2em;color: black;border-radius: 0.25em;background-color: #f0f8ff;}#sk-container-id-1 input.sk-toggleable__control:checked~div.sk-toggleable__content {max-height: 200px;max-width: 100%;overflow: auto;}#sk-container-id-1 input.sk-toggleable__control:checked~label.sk-toggleable__label-arrow:before {content: \"▾\";}#sk-container-id-1 div.sk-estimator input.sk-toggleable__control:checked~label.sk-toggleable__label {background-color: #d4ebff;}#sk-container-id-1 div.sk-label input.sk-toggleable__control:checked~label.sk-toggleable__label {background-color: #d4ebff;}#sk-container-id-1 input.sk-hidden--visually {border: 0;clip: rect(1px 1px 1px 1px);clip: rect(1px, 1px, 1px, 1px);height: 1px;margin: -1px;overflow: hidden;padding: 0;position: absolute;width: 1px;}#sk-container-id-1 div.sk-estimator {font-family: monospace;background-color: #f0f8ff;border: 1px dotted black;border-radius: 0.25em;box-sizing: border-box;margin-bottom: 0.5em;}#sk-container-id-1 div.sk-estimator:hover {background-color: #d4ebff;}#sk-container-id-1 div.sk-parallel-item::after {content: \"\";width: 100%;border-bottom: 1px solid gray;flex-grow: 1;}#sk-container-id-1 div.sk-label:hover label.sk-toggleable__label {background-color: #d4ebff;}#sk-container-id-1 div.sk-serial::before {content: \"\";position: absolute;border-left: 1px solid gray;box-sizing: border-box;top: 0;bottom: 0;left: 50%;z-index: 0;}#sk-container-id-1 div.sk-serial {display: flex;flex-direction: column;align-items: center;background-color: white;padding-right: 0.2em;padding-left: 0.2em;position: relative;}#sk-container-id-1 div.sk-item {position: relative;z-index: 1;}#sk-container-id-1 div.sk-parallel {display: flex;align-items: stretch;justify-content: center;background-color: white;position: relative;}#sk-container-id-1 div.sk-item::before, #sk-container-id-1 div.sk-parallel-item::before {content: \"\";position: absolute;border-left: 1px solid gray;box-sizing: border-box;top: 0;bottom: 0;left: 50%;z-index: -1;}#sk-container-id-1 div.sk-parallel-item {display: flex;flex-direction: column;z-index: 1;position: relative;background-color: white;}#sk-container-id-1 div.sk-parallel-item:first-child::after {align-self: flex-end;width: 50%;}#sk-container-id-1 div.sk-parallel-item:last-child::after {align-self: flex-start;width: 50%;}#sk-container-id-1 div.sk-parallel-item:only-child::after {width: 0;}#sk-container-id-1 div.sk-dashed-wrapped {border: 1px dashed gray;margin: 0 0.4em 0.5em 0.4em;box-sizing: border-box;padding-bottom: 0.4em;background-color: white;}#sk-container-id-1 div.sk-label label {font-family: monospace;font-weight: bold;display: inline-block;line-height: 1.2em;}#sk-container-id-1 div.sk-label-container {text-align: center;}#sk-container-id-1 div.sk-container {/* jupyter's `normalize.less` sets `[hidden] { display: none; }` but bootstrap.min.css set `[hidden] { display: none !important; }` so we also need the `!important` here to be able to override the default hidden behavior on the sphinx rendered scikit-learn.org. See: https://github.com/scikit-learn/scikit-learn/issues/21755 */display: inline-block !important;position: relative;}#sk-container-id-1 div.sk-text-repr-fallback {display: none;}</style><div id=\"sk-container-id-1\" class=\"sk-top-container\"><div class=\"sk-text-repr-fallback\"><pre>DecisionTreeClassifier()</pre><b>In a Jupyter environment, please rerun this cell to show the HTML representation or trust the notebook. <br />On GitHub, the HTML representation is unable to render, please try loading this page with nbviewer.org.</b></div><div class=\"sk-container\" hidden><div class=\"sk-item\"><div class=\"sk-estimator sk-toggleable\"><input class=\"sk-toggleable__control sk-hidden--visually\" id=\"sk-estimator-id-1\" type=\"checkbox\" checked><label for=\"sk-estimator-id-1\" class=\"sk-toggleable__label sk-toggleable__label-arrow\">DecisionTreeClassifier</label><div class=\"sk-toggleable__content\"><pre>DecisionTreeClassifier()</pre></div></div></div></div></div>"
      ],
      "text/plain": [
       "DecisionTreeClassifier()"
      ]
     },
     "execution_count": 30,
     "metadata": {},
     "output_type": "execute_result"
    }
   ],
   "source": [
    "#Instantiating the model\n",
    "tree_classifier = DecisionTreeClassifier()\n",
    "\n",
    "#Training Model\n",
    "tree_classifier.fit(X_train_resampled,y_train_resampled)"
   ]
  },
  {
   "cell_type": "code",
   "execution_count": null,
   "metadata": {
    "id": "aBP2gDDlSIDb"
   },
   "outputs": [],
   "source": [
    "#Predictions on Evaluation set\n",
    "tree_classifier_preds = tree_classifier.predict(X_eval_scaled)\n",
    "\n",
    "# Calculate evaluation metrics\n",
    "tree_classifier_f1_score = f1_score(y_eval, tree_classifier_preds)\n",
    "tree_classifier_recall = recall_score(y_eval, tree_classifier_preds)\n",
    "tree_classifier_precision = precision_score(y_eval, tree_classifier_preds)\n",
    "tree_classifier_f2_score = fbeta_score(y_eval, tree_classifier_preds, beta=2)\n",
    "tree_classifier_accuracy = accuracy_score(y_eval, tree_classifier_preds)\n",
    "\n",
    "# Calculate AUC score\n",
    "tree_classifier_auc_score = roc_auc_score(y_eval, tree_classifier_preds)"
   ]
  },
  {
   "cell_type": "code",
   "execution_count": null,
   "metadata": {
    "colab": {
     "base_uri": "https://localhost:8080/"
    },
    "id": "C4ASqfa3TLy6",
    "outputId": "1f47d98e-64b0-4adf-fe4f-edc62327a3eb"
   },
   "outputs": [
    {
     "name": "stdout",
     "output_type": "stream",
     "text": [
      "F1 Score: 0.44775625103493955\n",
      "Recall Score: 0.52\n",
      "Precision Score: 0.3931375399825531\n",
      "F2 Score: 0.48847460076595134\n",
      "Accuracy Score: 0.9204057279236277\n",
      "ROC AUC Score: 0.7334478371501272\n"
     ]
    }
   ],
   "source": [
    "\n",
    "print(\"F1 Score:\", tree_classifier_f1_score)\n",
    "print(\"Recall Score:\", tree_classifier_recall)\n",
    "print(\"Precision Score:\", tree_classifier_precision)\n",
    "print(\"F2 Score:\", tree_classifier_f2_score)\n",
    "print(\"Accuracy Score:\", tree_classifier_accuracy)\n",
    "print(\"ROC AUC Score:\", tree_classifier_auc_score)"
   ]
  },
  {
   "cell_type": "markdown",
   "metadata": {
    "id": "qSXmuf1JTzbi"
   },
   "source": [
    "##### XGBoost Classifier"
   ]
  },
  {
   "cell_type": "code",
   "execution_count": null,
   "metadata": {
    "colab": {
     "base_uri": "https://localhost:8080/",
     "height": 248
    },
    "id": "-YCgZxijT7pl",
    "outputId": "12b41623-2fa6-4f06-f6bc-aff0339206be"
   },
   "outputs": [
    {
     "data": {
      "text/html": [
       "<style>#sk-container-id-2 {color: black;background-color: white;}#sk-container-id-2 pre{padding: 0;}#sk-container-id-2 div.sk-toggleable {background-color: white;}#sk-container-id-2 label.sk-toggleable__label {cursor: pointer;display: block;width: 100%;margin-bottom: 0;padding: 0.3em;box-sizing: border-box;text-align: center;}#sk-container-id-2 label.sk-toggleable__label-arrow:before {content: \"▸\";float: left;margin-right: 0.25em;color: #696969;}#sk-container-id-2 label.sk-toggleable__label-arrow:hover:before {color: black;}#sk-container-id-2 div.sk-estimator:hover label.sk-toggleable__label-arrow:before {color: black;}#sk-container-id-2 div.sk-toggleable__content {max-height: 0;max-width: 0;overflow: hidden;text-align: left;background-color: #f0f8ff;}#sk-container-id-2 div.sk-toggleable__content pre {margin: 0.2em;color: black;border-radius: 0.25em;background-color: #f0f8ff;}#sk-container-id-2 input.sk-toggleable__control:checked~div.sk-toggleable__content {max-height: 200px;max-width: 100%;overflow: auto;}#sk-container-id-2 input.sk-toggleable__control:checked~label.sk-toggleable__label-arrow:before {content: \"▾\";}#sk-container-id-2 div.sk-estimator input.sk-toggleable__control:checked~label.sk-toggleable__label {background-color: #d4ebff;}#sk-container-id-2 div.sk-label input.sk-toggleable__control:checked~label.sk-toggleable__label {background-color: #d4ebff;}#sk-container-id-2 input.sk-hidden--visually {border: 0;clip: rect(1px 1px 1px 1px);clip: rect(1px, 1px, 1px, 1px);height: 1px;margin: -1px;overflow: hidden;padding: 0;position: absolute;width: 1px;}#sk-container-id-2 div.sk-estimator {font-family: monospace;background-color: #f0f8ff;border: 1px dotted black;border-radius: 0.25em;box-sizing: border-box;margin-bottom: 0.5em;}#sk-container-id-2 div.sk-estimator:hover {background-color: #d4ebff;}#sk-container-id-2 div.sk-parallel-item::after {content: \"\";width: 100%;border-bottom: 1px solid gray;flex-grow: 1;}#sk-container-id-2 div.sk-label:hover label.sk-toggleable__label {background-color: #d4ebff;}#sk-container-id-2 div.sk-serial::before {content: \"\";position: absolute;border-left: 1px solid gray;box-sizing: border-box;top: 0;bottom: 0;left: 50%;z-index: 0;}#sk-container-id-2 div.sk-serial {display: flex;flex-direction: column;align-items: center;background-color: white;padding-right: 0.2em;padding-left: 0.2em;position: relative;}#sk-container-id-2 div.sk-item {position: relative;z-index: 1;}#sk-container-id-2 div.sk-parallel {display: flex;align-items: stretch;justify-content: center;background-color: white;position: relative;}#sk-container-id-2 div.sk-item::before, #sk-container-id-2 div.sk-parallel-item::before {content: \"\";position: absolute;border-left: 1px solid gray;box-sizing: border-box;top: 0;bottom: 0;left: 50%;z-index: -1;}#sk-container-id-2 div.sk-parallel-item {display: flex;flex-direction: column;z-index: 1;position: relative;background-color: white;}#sk-container-id-2 div.sk-parallel-item:first-child::after {align-self: flex-end;width: 50%;}#sk-container-id-2 div.sk-parallel-item:last-child::after {align-self: flex-start;width: 50%;}#sk-container-id-2 div.sk-parallel-item:only-child::after {width: 0;}#sk-container-id-2 div.sk-dashed-wrapped {border: 1px dashed gray;margin: 0 0.4em 0.5em 0.4em;box-sizing: border-box;padding-bottom: 0.4em;background-color: white;}#sk-container-id-2 div.sk-label label {font-family: monospace;font-weight: bold;display: inline-block;line-height: 1.2em;}#sk-container-id-2 div.sk-label-container {text-align: center;}#sk-container-id-2 div.sk-container {/* jupyter's `normalize.less` sets `[hidden] { display: none; }` but bootstrap.min.css set `[hidden] { display: none !important; }` so we also need the `!important` here to be able to override the default hidden behavior on the sphinx rendered scikit-learn.org. See: https://github.com/scikit-learn/scikit-learn/issues/21755 */display: inline-block !important;position: relative;}#sk-container-id-2 div.sk-text-repr-fallback {display: none;}</style><div id=\"sk-container-id-2\" class=\"sk-top-container\"><div class=\"sk-text-repr-fallback\"><pre>XGBClassifier(base_score=None, booster=None, callbacks=None,\n",
       "              colsample_bylevel=None, colsample_bynode=None,\n",
       "              colsample_bytree=None, early_stopping_rounds=None,\n",
       "              enable_categorical=False, eval_metric=None, feature_types=None,\n",
       "              gamma=None, gpu_id=None, grow_policy=None, importance_type=None,\n",
       "              interaction_constraints=None, learning_rate=None, max_bin=None,\n",
       "              max_cat_threshold=None, max_cat_to_onehot=None,\n",
       "              max_delta_step=None, max_depth=None, max_leaves=None,\n",
       "              min_child_weight=None, missing=nan, monotone_constraints=None,\n",
       "              n_estimators=100, n_jobs=None, num_parallel_tree=None,\n",
       "              predictor=None, random_state=None, ...)</pre><b>In a Jupyter environment, please rerun this cell to show the HTML representation or trust the notebook. <br />On GitHub, the HTML representation is unable to render, please try loading this page with nbviewer.org.</b></div><div class=\"sk-container\" hidden><div class=\"sk-item\"><div class=\"sk-estimator sk-toggleable\"><input class=\"sk-toggleable__control sk-hidden--visually\" id=\"sk-estimator-id-2\" type=\"checkbox\" checked><label for=\"sk-estimator-id-2\" class=\"sk-toggleable__label sk-toggleable__label-arrow\">XGBClassifier</label><div class=\"sk-toggleable__content\"><pre>XGBClassifier(base_score=None, booster=None, callbacks=None,\n",
       "              colsample_bylevel=None, colsample_bynode=None,\n",
       "              colsample_bytree=None, early_stopping_rounds=None,\n",
       "              enable_categorical=False, eval_metric=None, feature_types=None,\n",
       "              gamma=None, gpu_id=None, grow_policy=None, importance_type=None,\n",
       "              interaction_constraints=None, learning_rate=None, max_bin=None,\n",
       "              max_cat_threshold=None, max_cat_to_onehot=None,\n",
       "              max_delta_step=None, max_depth=None, max_leaves=None,\n",
       "              min_child_weight=None, missing=nan, monotone_constraints=None,\n",
       "              n_estimators=100, n_jobs=None, num_parallel_tree=None,\n",
       "              predictor=None, random_state=None, ...)</pre></div></div></div></div></div>"
      ],
      "text/plain": [
       "XGBClassifier(base_score=None, booster=None, callbacks=None,\n",
       "              colsample_bylevel=None, colsample_bynode=None,\n",
       "              colsample_bytree=None, early_stopping_rounds=None,\n",
       "              enable_categorical=False, eval_metric=None, feature_types=None,\n",
       "              gamma=None, gpu_id=None, grow_policy=None, importance_type=None,\n",
       "              interaction_constraints=None, learning_rate=None, max_bin=None,\n",
       "              max_cat_threshold=None, max_cat_to_onehot=None,\n",
       "              max_delta_step=None, max_depth=None, max_leaves=None,\n",
       "              min_child_weight=None, missing=nan, monotone_constraints=None,\n",
       "              n_estimators=100, n_jobs=None, num_parallel_tree=None,\n",
       "              predictor=None, random_state=None, ...)"
      ]
     },
     "execution_count": 33,
     "metadata": {},
     "output_type": "execute_result"
    }
   ],
   "source": [
    "#Instantiating the model\n",
    "xgb_classifier = XGBClassifier(n_estimators =100)\n",
    "\n",
    "#Training Model\n",
    "xgb_classifier.fit(X_train_resampled,y_train_resampled)"
   ]
  },
  {
   "cell_type": "code",
   "execution_count": null,
   "metadata": {
    "id": "LuczIdzKUCrl"
   },
   "outputs": [],
   "source": [
    "#Predictions on Evaluation set\n",
    "xgb_classifier_preds = xgb_classifier.predict(X_eval_scaled)\n",
    "\n",
    "# Calculate evaluation metrics\n",
    "xgb_classifier_f1_score = f1_score(y_eval, xgb_classifier_preds)\n",
    "xgb_classifier_recall = recall_score(y_eval, xgb_classifier_preds)\n",
    "xgb_classifier_precision = precision_score(y_eval, xgb_classifier_preds)\n",
    "xgb_classifier_f2_score = fbeta_score(y_eval, xgb_classifier_preds, beta=2)\n",
    "xgb_classifier_accuracy = accuracy_score(y_eval, xgb_classifier_preds)\n",
    "\n",
    "# Calculate AUC score\n",
    "xgb_classifier_auc_score = roc_auc_score(y_eval, xgb_classifier_preds)"
   ]
  },
  {
   "cell_type": "code",
   "execution_count": null,
   "metadata": {
    "colab": {
     "base_uri": "https://localhost:8080/"
    },
    "id": "6DPxbyEcUHNK",
    "outputId": "967c77a2-76dc-45ca-89ff-e7d8ac6363df"
   },
   "outputs": [
    {
     "name": "stdout",
     "output_type": "stream",
     "text": [
      "F1 Score: 0.5831647106434642\n",
      "Recall Score: 0.5542307692307692\n",
      "Precision Score: 0.6152860802732707\n",
      "F2 Score: 0.5654528331502119\n",
      "Accuracy Score: 0.9508353221957041\n",
      "ROC AUC Score: 0.7656522802896849\n"
     ]
    }
   ],
   "source": [
    "print(\"F1 Score:\", xgb_classifier_f1_score)\n",
    "print(\"Recall Score:\", xgb_classifier_recall)\n",
    "print(\"Precision Score:\", xgb_classifier_precision)\n",
    "print(\"F2 Score:\", xgb_classifier_f2_score)\n",
    "print(\"Accuracy Score:\", xgb_classifier_accuracy)\n",
    "print(\"ROC AUC Score:\", xgb_classifier_auc_score)"
   ]
  },
  {
   "cell_type": "markdown",
   "metadata": {
    "id": "eEI4Ftr_cgph"
   },
   "source": [
    "##### Random Forest Classifier\n"
   ]
  },
  {
   "cell_type": "code",
   "execution_count": null,
   "metadata": {
    "colab": {
     "base_uri": "https://localhost:8080/",
     "height": 75
    },
    "id": "-SIDY7a6cyr9",
    "outputId": "3f3af1d3-d64f-4b1e-fc17-56845125917b"
   },
   "outputs": [
    {
     "data": {
      "text/html": [
       "<style>#sk-container-id-3 {color: black;background-color: white;}#sk-container-id-3 pre{padding: 0;}#sk-container-id-3 div.sk-toggleable {background-color: white;}#sk-container-id-3 label.sk-toggleable__label {cursor: pointer;display: block;width: 100%;margin-bottom: 0;padding: 0.3em;box-sizing: border-box;text-align: center;}#sk-container-id-3 label.sk-toggleable__label-arrow:before {content: \"▸\";float: left;margin-right: 0.25em;color: #696969;}#sk-container-id-3 label.sk-toggleable__label-arrow:hover:before {color: black;}#sk-container-id-3 div.sk-estimator:hover label.sk-toggleable__label-arrow:before {color: black;}#sk-container-id-3 div.sk-toggleable__content {max-height: 0;max-width: 0;overflow: hidden;text-align: left;background-color: #f0f8ff;}#sk-container-id-3 div.sk-toggleable__content pre {margin: 0.2em;color: black;border-radius: 0.25em;background-color: #f0f8ff;}#sk-container-id-3 input.sk-toggleable__control:checked~div.sk-toggleable__content {max-height: 200px;max-width: 100%;overflow: auto;}#sk-container-id-3 input.sk-toggleable__control:checked~label.sk-toggleable__label-arrow:before {content: \"▾\";}#sk-container-id-3 div.sk-estimator input.sk-toggleable__control:checked~label.sk-toggleable__label {background-color: #d4ebff;}#sk-container-id-3 div.sk-label input.sk-toggleable__control:checked~label.sk-toggleable__label {background-color: #d4ebff;}#sk-container-id-3 input.sk-hidden--visually {border: 0;clip: rect(1px 1px 1px 1px);clip: rect(1px, 1px, 1px, 1px);height: 1px;margin: -1px;overflow: hidden;padding: 0;position: absolute;width: 1px;}#sk-container-id-3 div.sk-estimator {font-family: monospace;background-color: #f0f8ff;border: 1px dotted black;border-radius: 0.25em;box-sizing: border-box;margin-bottom: 0.5em;}#sk-container-id-3 div.sk-estimator:hover {background-color: #d4ebff;}#sk-container-id-3 div.sk-parallel-item::after {content: \"\";width: 100%;border-bottom: 1px solid gray;flex-grow: 1;}#sk-container-id-3 div.sk-label:hover label.sk-toggleable__label {background-color: #d4ebff;}#sk-container-id-3 div.sk-serial::before {content: \"\";position: absolute;border-left: 1px solid gray;box-sizing: border-box;top: 0;bottom: 0;left: 50%;z-index: 0;}#sk-container-id-3 div.sk-serial {display: flex;flex-direction: column;align-items: center;background-color: white;padding-right: 0.2em;padding-left: 0.2em;position: relative;}#sk-container-id-3 div.sk-item {position: relative;z-index: 1;}#sk-container-id-3 div.sk-parallel {display: flex;align-items: stretch;justify-content: center;background-color: white;position: relative;}#sk-container-id-3 div.sk-item::before, #sk-container-id-3 div.sk-parallel-item::before {content: \"\";position: absolute;border-left: 1px solid gray;box-sizing: border-box;top: 0;bottom: 0;left: 50%;z-index: -1;}#sk-container-id-3 div.sk-parallel-item {display: flex;flex-direction: column;z-index: 1;position: relative;background-color: white;}#sk-container-id-3 div.sk-parallel-item:first-child::after {align-self: flex-end;width: 50%;}#sk-container-id-3 div.sk-parallel-item:last-child::after {align-self: flex-start;width: 50%;}#sk-container-id-3 div.sk-parallel-item:only-child::after {width: 0;}#sk-container-id-3 div.sk-dashed-wrapped {border: 1px dashed gray;margin: 0 0.4em 0.5em 0.4em;box-sizing: border-box;padding-bottom: 0.4em;background-color: white;}#sk-container-id-3 div.sk-label label {font-family: monospace;font-weight: bold;display: inline-block;line-height: 1.2em;}#sk-container-id-3 div.sk-label-container {text-align: center;}#sk-container-id-3 div.sk-container {/* jupyter's `normalize.less` sets `[hidden] { display: none; }` but bootstrap.min.css set `[hidden] { display: none !important; }` so we also need the `!important` here to be able to override the default hidden behavior on the sphinx rendered scikit-learn.org. See: https://github.com/scikit-learn/scikit-learn/issues/21755 */display: inline-block !important;position: relative;}#sk-container-id-3 div.sk-text-repr-fallback {display: none;}</style><div id=\"sk-container-id-3\" class=\"sk-top-container\"><div class=\"sk-text-repr-fallback\"><pre>RandomForestClassifier(n_estimators=1000)</pre><b>In a Jupyter environment, please rerun this cell to show the HTML representation or trust the notebook. <br />On GitHub, the HTML representation is unable to render, please try loading this page with nbviewer.org.</b></div><div class=\"sk-container\" hidden><div class=\"sk-item\"><div class=\"sk-estimator sk-toggleable\"><input class=\"sk-toggleable__control sk-hidden--visually\" id=\"sk-estimator-id-3\" type=\"checkbox\" checked><label for=\"sk-estimator-id-3\" class=\"sk-toggleable__label sk-toggleable__label-arrow\">RandomForestClassifier</label><div class=\"sk-toggleable__content\"><pre>RandomForestClassifier(n_estimators=1000)</pre></div></div></div></div></div>"
      ],
      "text/plain": [
       "RandomForestClassifier(n_estimators=1000)"
      ]
     },
     "execution_count": 36,
     "metadata": {},
     "output_type": "execute_result"
    }
   ],
   "source": [
    "#Instantiating the model\n",
    "rf_classifier = RandomForestClassifier(n_estimators = 1000)\n",
    "\n",
    "#Training Model\n",
    "rf_classifier.fit(X_train_resampled,y_train_resampled)"
   ]
  },
  {
   "cell_type": "code",
   "execution_count": null,
   "metadata": {
    "id": "jBk7dv_nc2rT"
   },
   "outputs": [],
   "source": [
    "\n",
    "#Predictions on Evaluation set\n",
    "rf_classifier_preds = rf_classifier.predict(X_eval_scaled)\n",
    "\n",
    "# Calculate evaluation metrics\n",
    "rf_classifier_f1_score = f1_score(y_eval, rf_classifier_preds)\n",
    "rf_classifier_recall = recall_score(y_eval, rf_classifier_preds)\n",
    "rf_classifier_precision = precision_score(y_eval, rf_classifier_preds)\n",
    "rf_classifier_f2_score = fbeta_score(y_eval, rf_classifier_preds, beta=2)\n",
    "rf_classifier_accuracy = accuracy_score(y_eval, rf_classifier_preds)\n",
    "\n",
    "# Calculate AUC score\n",
    "rf_classifier_auc_score = roc_auc_score(y_eval, rf_classifier_preds)"
   ]
  },
  {
   "cell_type": "code",
   "execution_count": null,
   "metadata": {
    "colab": {
     "base_uri": "https://localhost:8080/"
    },
    "id": "OU2HhZiSc64q",
    "outputId": "f26e0d91-b039-4538-c836-6dd2ce562012"
   },
   "outputs": [
    {
     "name": "stdout",
     "output_type": "stream",
     "text": [
      "F1 Score: 0.5607576840600428\n",
      "Recall Score: 0.6034615384615385\n",
      "Precision Score: 0.5236982643524699\n",
      "F2 Score: 0.5856225739026575\n",
      "Accuracy Score: 0.9413365155131265\n",
      "ROC AUC Score: 0.783575552945782\n"
     ]
    }
   ],
   "source": [
    "\n",
    "print(\"F1 Score:\", rf_classifier_f1_score)\n",
    "print(\"Recall Score:\", rf_classifier_recall)\n",
    "print(\"Precision Score:\", rf_classifier_precision)\n",
    "print(\"F2 Score:\", rf_classifier_f2_score)\n",
    "print(\"Accuracy Score:\", rf_classifier_accuracy)\n",
    "print(\"ROC AUC Score:\", rf_classifier_auc_score)"
   ]
  },
  {
   "cell_type": "markdown",
   "metadata": {
    "id": "CIYDCNH2xcAC"
   },
   "source": [
    "## Hyperparameter Tuning"
   ]
  },
  {
   "cell_type": "markdown",
   "metadata": {
    "id": "3Fg2hYPShAfA"
   },
   "source": [
    "#### XGBoost Classifier"
   ]
  },
  {
   "cell_type": "code",
   "execution_count": null,
   "metadata": {
    "id": "SfxeCc_4hHwV"
   },
   "outputs": [],
   "source": [
    "# Define the hyperparameters grid\n",
    "param_grid = {\n",
    "    'max_depth': [3, 4, 5],\n",
    "    'learning_rate': [0.1, 0.01],\n",
    "    'n_estimators': [100, 200, 300]\n",
    "}\n",
    "\n",
    "# Define scoring metrics\n",
    "scoring = {\n",
    "        'F1': 'f1',\n",
    "        'ROC AUC': 'roc_auc'\n",
    "    }"
   ]
  },
  {
   "cell_type": "code",
   "execution_count": null,
   "metadata": {
    "id": "VVI6SSmIhYC_"
   },
   "outputs": [],
   "source": [
    "\n",
    "# Perform grid search to find the best hyperparameters\n",
    "xgb_grid_search = GridSearchCV(estimator = xgb_classifier, param_grid = param_grid, scoring=scoring, cv=3, refit='F1')\n",
    "xgb_grid_search.fit(X_train_resampled, y_train_resampled)\n",
    "\n",
    "# Create a dictionary to store the results\n",
    "xgb_tuned_results = {\n",
    "        'best_params': xgb_grid_search.best_params_,\n",
    "        'best_estimator': xgb_grid_search.best_estimator_,\n",
    "        'best_f1_score': xgb_grid_search.best_score_,\n",
    "        'best_roc_auc_score': roc_auc_score(y_train_resampled, xgb_grid_search.predict_proba(X_train_resampled)[:, 1])\n",
    "    }\n"
   ]
  },
  {
   "cell_type": "code",
   "execution_count": null,
   "metadata": {
    "colab": {
     "base_uri": "https://localhost:8080/"
    },
    "id": "6ZKK0AUthdk5",
    "outputId": "67385b8f-bfe3-4e11-9ce2-068123e1317f"
   },
   "outputs": [
    {
     "data": {
      "text/plain": [
       "{'best_params': {'learning_rate': 0.1, 'max_depth': 5, 'n_estimators': 300},\n",
       " 'best_estimator': XGBClassifier(base_score=None, booster=None, callbacks=None,\n",
       "               colsample_bylevel=None, colsample_bynode=None,\n",
       "               colsample_bytree=None, early_stopping_rounds=None,\n",
       "               enable_categorical=False, eval_metric=None, feature_types=None,\n",
       "               gamma=None, gpu_id=None, grow_policy=None, importance_type=None,\n",
       "               interaction_constraints=None, learning_rate=0.1, max_bin=None,\n",
       "               max_cat_threshold=None, max_cat_to_onehot=None,\n",
       "               max_delta_step=None, max_depth=5, max_leaves=None,\n",
       "               min_child_weight=None, missing=nan, monotone_constraints=None,\n",
       "               n_estimators=300, n_jobs=None, num_parallel_tree=None,\n",
       "               predictor=None, random_state=None, ...),\n",
       " 'best_f1_score': 0.9567230344336523,\n",
       " 'best_roc_auc_score': 0.9955178653911486}"
      ]
     },
     "execution_count": 43,
     "metadata": {},
     "output_type": "execute_result"
    }
   ],
   "source": [
    "xgb_tuned_results"
   ]
  },
  {
   "cell_type": "markdown",
   "metadata": {
    "id": "KPBKieOBh_Bj"
   },
   "source": [
    "##### Random Forest Classifier\n",
    "\n"
   ]
  },
  {
   "cell_type": "code",
   "execution_count": null,
   "metadata": {
    "id": "ZfCo6s-Rifw0"
   },
   "outputs": [],
   "source": [
    "\n",
    "# Define the hyperparameters grid\n",
    "param_grid = {\n",
    "        'n_estimators': [100,1000],\n",
    "        'max_depth': [None, 10, 20],\n",
    "        'min_samples_split': [2,5,4],\n",
    "        'min_samples_leaf': [1,2,4] ,\n",
    "        'max_features':['auto','sqrt','log2']\n",
    "    }\n",
    "\n",
    "# Define scoring metrics\n",
    "scoring = {\n",
    "        'F1': 'f1',\n",
    "        'ROC AUC': 'roc_auc'\n",
    "    }"
   ]
  },
  {
   "cell_type": "code",
   "execution_count": null,
   "metadata": {
    "id": "jtYdmECciw_u"
   },
   "outputs": [],
   "source": [
    "\n",
    "# Perform grid search to find the best hyperparameters\n",
    "rf_grid_search = GridSearchCV(estimator = rf_classifier, param_grid = param_grid, scoring=scoring, cv=3, refit='F1')\n",
    "rf_grid_search.fit(X_train_resampled, y_train_resampled)\n",
    "\n",
    "# Create a dictionary to store the results\n",
    "rf_tuned_results = {\n",
    "        'best_params': rf_grid_search.best_params_,\n",
    "        'best_estimator': rf_grid_search.best_estimator_,\n",
    "        'best_f1_score': rf_grid_search.best_score_,\n",
    "        'best_roc_auc_score': roc_auc_score(y_train_resampled, rf_grid_search.predict_proba(X_train_resampled)[:, 1])\n",
    "    }\n"
   ]
  },
  {
   "cell_type": "markdown",
   "metadata": {
    "id": "n1_TnYcxh80f"
   },
   "source": [
    "###### Hyperparameter Results"
   ]
  },
  {
   "cell_type": "code",
   "execution_count": null,
   "metadata": {
    "colab": {
     "base_uri": "https://localhost:8080/",
     "height": 81
    },
    "id": "VXrM9yHTgrGq",
    "outputId": "cf914d09-fa0d-476e-af55-fe6efb279e7e"
   },
   "outputs": [
    {
     "data": {
      "text/html": [
       "\n",
       "  <div id=\"df-32602b61-69bd-46f1-8220-309c8dd0968e\" class=\"colab-df-container\">\n",
       "    <div>\n",
       "<style scoped>\n",
       "    .dataframe tbody tr th:only-of-type {\n",
       "        vertical-align: middle;\n",
       "    }\n",
       "\n",
       "    .dataframe tbody tr th {\n",
       "        vertical-align: top;\n",
       "    }\n",
       "\n",
       "    .dataframe thead th {\n",
       "        text-align: right;\n",
       "    }\n",
       "</style>\n",
       "<table border=\"1\" class=\"dataframe\">\n",
       "  <thead>\n",
       "    <tr style=\"text-align: right;\">\n",
       "      <th></th>\n",
       "      <th>model</th>\n",
       "      <th>f1_score</th>\n",
       "      <th>AUC_score</th>\n",
       "    </tr>\n",
       "  </thead>\n",
       "  <tbody>\n",
       "    <tr>\n",
       "      <th>0</th>\n",
       "      <td>XGB Classifier</td>\n",
       "      <td>0.956723</td>\n",
       "      <td>0.995518</td>\n",
       "    </tr>\n",
       "  </tbody>\n",
       "</table>\n",
       "</div>\n",
       "    <div class=\"colab-df-buttons\">\n",
       "\n",
       "  <div class=\"colab-df-container\">\n",
       "    <button class=\"colab-df-convert\" onclick=\"convertToInteractive('df-32602b61-69bd-46f1-8220-309c8dd0968e')\"\n",
       "            title=\"Convert this dataframe to an interactive table.\"\n",
       "            style=\"display:none;\">\n",
       "\n",
       "  <svg xmlns=\"http://www.w3.org/2000/svg\" height=\"24px\" viewBox=\"0 -960 960 960\">\n",
       "    <path d=\"M120-120v-720h720v720H120Zm60-500h600v-160H180v160Zm220 220h160v-160H400v160Zm0 220h160v-160H400v160ZM180-400h160v-160H180v160Zm440 0h160v-160H620v160ZM180-180h160v-160H180v160Zm440 0h160v-160H620v160Z\"/>\n",
       "  </svg>\n",
       "    </button>\n",
       "\n",
       "  <style>\n",
       "    .colab-df-container {\n",
       "      display:flex;\n",
       "      gap: 12px;\n",
       "    }\n",
       "\n",
       "    .colab-df-convert {\n",
       "      background-color: #E8F0FE;\n",
       "      border: none;\n",
       "      border-radius: 50%;\n",
       "      cursor: pointer;\n",
       "      display: none;\n",
       "      fill: #1967D2;\n",
       "      height: 32px;\n",
       "      padding: 0 0 0 0;\n",
       "      width: 32px;\n",
       "    }\n",
       "\n",
       "    .colab-df-convert:hover {\n",
       "      background-color: #E2EBFA;\n",
       "      box-shadow: 0px 1px 2px rgba(60, 64, 67, 0.3), 0px 1px 3px 1px rgba(60, 64, 67, 0.15);\n",
       "      fill: #174EA6;\n",
       "    }\n",
       "\n",
       "    .colab-df-buttons div {\n",
       "      margin-bottom: 4px;\n",
       "    }\n",
       "\n",
       "    [theme=dark] .colab-df-convert {\n",
       "      background-color: #3B4455;\n",
       "      fill: #D2E3FC;\n",
       "    }\n",
       "\n",
       "    [theme=dark] .colab-df-convert:hover {\n",
       "      background-color: #434B5C;\n",
       "      box-shadow: 0px 1px 3px 1px rgba(0, 0, 0, 0.15);\n",
       "      filter: drop-shadow(0px 1px 2px rgba(0, 0, 0, 0.3));\n",
       "      fill: #FFFFFF;\n",
       "    }\n",
       "  </style>\n",
       "\n",
       "    <script>\n",
       "      const buttonEl =\n",
       "        document.querySelector('#df-32602b61-69bd-46f1-8220-309c8dd0968e button.colab-df-convert');\n",
       "      buttonEl.style.display =\n",
       "        google.colab.kernel.accessAllowed ? 'block' : 'none';\n",
       "\n",
       "      async function convertToInteractive(key) {\n",
       "        const element = document.querySelector('#df-32602b61-69bd-46f1-8220-309c8dd0968e');\n",
       "        const dataTable =\n",
       "          await google.colab.kernel.invokeFunction('convertToInteractive',\n",
       "                                                    [key], {});\n",
       "        if (!dataTable) return;\n",
       "\n",
       "        const docLinkHtml = 'Like what you see? Visit the ' +\n",
       "          '<a target=\"_blank\" href=https://colab.research.google.com/notebooks/data_table.ipynb>data table notebook</a>'\n",
       "          + ' to learn more about interactive tables.';\n",
       "        element.innerHTML = '';\n",
       "        dataTable['output_type'] = 'display_data';\n",
       "        await google.colab.output.renderOutput(dataTable, element);\n",
       "        const docLink = document.createElement('div');\n",
       "        docLink.innerHTML = docLinkHtml;\n",
       "        element.appendChild(docLink);\n",
       "      }\n",
       "    </script>\n",
       "  </div>\n",
       "\n",
       "    </div>\n",
       "  </div>\n"
      ],
      "text/plain": [
       "            model  f1_score  AUC_score\n",
       "0  XGB Classifier  0.956723   0.995518"
      ]
     },
     "execution_count": 45,
     "metadata": {},
     "output_type": "execute_result"
    }
   ],
   "source": [
    "results_new= {'model':['XGB Classifier'],\n",
    "         'f1_score':[xgb_tuned_results['best_f1_score']],\n",
    "         'AUC_score':[xgb_tuned_results['best_roc_auc_score']]}\n",
    "\n",
    "results_new_df= pd.DataFrame(results_new)\n",
    "\n",
    "results_new_df.sort_values(by= 'f1_score', ascending = False)"
   ]
  },
  {
   "cell_type": "markdown",
   "metadata": {
    "id": "V076v-ZYcYJz"
   },
   "source": [
    "###### Evaluation on Test_Data"
   ]
  },
  {
   "cell_type": "code",
   "execution_count": null,
   "metadata": {
    "colab": {
     "base_uri": "https://localhost:8080/",
     "height": 248
    },
    "id": "3MJVdb-sc93v",
    "outputId": "0e05f7f9-d003-4624-9d14-96cfc43cd140"
   },
   "outputs": [
    {
     "data": {
      "text/html": [
       "<style>#sk-container-id-4 {color: black;background-color: white;}#sk-container-id-4 pre{padding: 0;}#sk-container-id-4 div.sk-toggleable {background-color: white;}#sk-container-id-4 label.sk-toggleable__label {cursor: pointer;display: block;width: 100%;margin-bottom: 0;padding: 0.3em;box-sizing: border-box;text-align: center;}#sk-container-id-4 label.sk-toggleable__label-arrow:before {content: \"▸\";float: left;margin-right: 0.25em;color: #696969;}#sk-container-id-4 label.sk-toggleable__label-arrow:hover:before {color: black;}#sk-container-id-4 div.sk-estimator:hover label.sk-toggleable__label-arrow:before {color: black;}#sk-container-id-4 div.sk-toggleable__content {max-height: 0;max-width: 0;overflow: hidden;text-align: left;background-color: #f0f8ff;}#sk-container-id-4 div.sk-toggleable__content pre {margin: 0.2em;color: black;border-radius: 0.25em;background-color: #f0f8ff;}#sk-container-id-4 input.sk-toggleable__control:checked~div.sk-toggleable__content {max-height: 200px;max-width: 100%;overflow: auto;}#sk-container-id-4 input.sk-toggleable__control:checked~label.sk-toggleable__label-arrow:before {content: \"▾\";}#sk-container-id-4 div.sk-estimator input.sk-toggleable__control:checked~label.sk-toggleable__label {background-color: #d4ebff;}#sk-container-id-4 div.sk-label input.sk-toggleable__control:checked~label.sk-toggleable__label {background-color: #d4ebff;}#sk-container-id-4 input.sk-hidden--visually {border: 0;clip: rect(1px 1px 1px 1px);clip: rect(1px, 1px, 1px, 1px);height: 1px;margin: -1px;overflow: hidden;padding: 0;position: absolute;width: 1px;}#sk-container-id-4 div.sk-estimator {font-family: monospace;background-color: #f0f8ff;border: 1px dotted black;border-radius: 0.25em;box-sizing: border-box;margin-bottom: 0.5em;}#sk-container-id-4 div.sk-estimator:hover {background-color: #d4ebff;}#sk-container-id-4 div.sk-parallel-item::after {content: \"\";width: 100%;border-bottom: 1px solid gray;flex-grow: 1;}#sk-container-id-4 div.sk-label:hover label.sk-toggleable__label {background-color: #d4ebff;}#sk-container-id-4 div.sk-serial::before {content: \"\";position: absolute;border-left: 1px solid gray;box-sizing: border-box;top: 0;bottom: 0;left: 50%;z-index: 0;}#sk-container-id-4 div.sk-serial {display: flex;flex-direction: column;align-items: center;background-color: white;padding-right: 0.2em;padding-left: 0.2em;position: relative;}#sk-container-id-4 div.sk-item {position: relative;z-index: 1;}#sk-container-id-4 div.sk-parallel {display: flex;align-items: stretch;justify-content: center;background-color: white;position: relative;}#sk-container-id-4 div.sk-item::before, #sk-container-id-4 div.sk-parallel-item::before {content: \"\";position: absolute;border-left: 1px solid gray;box-sizing: border-box;top: 0;bottom: 0;left: 50%;z-index: -1;}#sk-container-id-4 div.sk-parallel-item {display: flex;flex-direction: column;z-index: 1;position: relative;background-color: white;}#sk-container-id-4 div.sk-parallel-item:first-child::after {align-self: flex-end;width: 50%;}#sk-container-id-4 div.sk-parallel-item:last-child::after {align-self: flex-start;width: 50%;}#sk-container-id-4 div.sk-parallel-item:only-child::after {width: 0;}#sk-container-id-4 div.sk-dashed-wrapped {border: 1px dashed gray;margin: 0 0.4em 0.5em 0.4em;box-sizing: border-box;padding-bottom: 0.4em;background-color: white;}#sk-container-id-4 div.sk-label label {font-family: monospace;font-weight: bold;display: inline-block;line-height: 1.2em;}#sk-container-id-4 div.sk-label-container {text-align: center;}#sk-container-id-4 div.sk-container {/* jupyter's `normalize.less` sets `[hidden] { display: none; }` but bootstrap.min.css set `[hidden] { display: none !important; }` so we also need the `!important` here to be able to override the default hidden behavior on the sphinx rendered scikit-learn.org. See: https://github.com/scikit-learn/scikit-learn/issues/21755 */display: inline-block !important;position: relative;}#sk-container-id-4 div.sk-text-repr-fallback {display: none;}</style><div id=\"sk-container-id-4\" class=\"sk-top-container\"><div class=\"sk-text-repr-fallback\"><pre>XGBClassifier(base_score=None, booster=None, callbacks=None,\n",
       "              colsample_bylevel=None, colsample_bynode=None,\n",
       "              colsample_bytree=None, early_stopping_rounds=None,\n",
       "              enable_categorical=False, eval_metric=None, feature_types=None,\n",
       "              gamma=None, gpu_id=None, grow_policy=None, importance_type=None,\n",
       "              interaction_constraints=None, learning_rate=0.1, max_bin=None,\n",
       "              max_cat_threshold=None, max_cat_to_onehot=None,\n",
       "              max_delta_step=None, max_depth=5, max_leaves=None,\n",
       "              min_child_weight=None, missing=nan, monotone_constraints=None,\n",
       "              n_estimators=300, n_jobs=None, num_parallel_tree=None,\n",
       "              predictor=None, random_state=None, ...)</pre><b>In a Jupyter environment, please rerun this cell to show the HTML representation or trust the notebook. <br />On GitHub, the HTML representation is unable to render, please try loading this page with nbviewer.org.</b></div><div class=\"sk-container\" hidden><div class=\"sk-item\"><div class=\"sk-estimator sk-toggleable\"><input class=\"sk-toggleable__control sk-hidden--visually\" id=\"sk-estimator-id-4\" type=\"checkbox\" checked><label for=\"sk-estimator-id-4\" class=\"sk-toggleable__label sk-toggleable__label-arrow\">XGBClassifier</label><div class=\"sk-toggleable__content\"><pre>XGBClassifier(base_score=None, booster=None, callbacks=None,\n",
       "              colsample_bylevel=None, colsample_bynode=None,\n",
       "              colsample_bytree=None, early_stopping_rounds=None,\n",
       "              enable_categorical=False, eval_metric=None, feature_types=None,\n",
       "              gamma=None, gpu_id=None, grow_policy=None, importance_type=None,\n",
       "              interaction_constraints=None, learning_rate=0.1, max_bin=None,\n",
       "              max_cat_threshold=None, max_cat_to_onehot=None,\n",
       "              max_delta_step=None, max_depth=5, max_leaves=None,\n",
       "              min_child_weight=None, missing=nan, monotone_constraints=None,\n",
       "              n_estimators=300, n_jobs=None, num_parallel_tree=None,\n",
       "              predictor=None, random_state=None, ...)</pre></div></div></div></div></div>"
      ],
      "text/plain": [
       "XGBClassifier(base_score=None, booster=None, callbacks=None,\n",
       "              colsample_bylevel=None, colsample_bynode=None,\n",
       "              colsample_bytree=None, early_stopping_rounds=None,\n",
       "              enable_categorical=False, eval_metric=None, feature_types=None,\n",
       "              gamma=None, gpu_id=None, grow_policy=None, importance_type=None,\n",
       "              interaction_constraints=None, learning_rate=0.1, max_bin=None,\n",
       "              max_cat_threshold=None, max_cat_to_onehot=None,\n",
       "              max_delta_step=None, max_depth=5, max_leaves=None,\n",
       "              min_child_weight=None, missing=nan, monotone_constraints=None,\n",
       "              n_estimators=300, n_jobs=None, num_parallel_tree=None,\n",
       "              predictor=None, random_state=None, ...)"
      ]
     },
     "execution_count": 47,
     "metadata": {},
     "output_type": "execute_result"
    }
   ],
   "source": [
    "model = xgb_tuned_results['best_estimator']\n",
    "model"
   ]
  },
  {
   "cell_type": "code",
   "execution_count": null,
   "metadata": {
    "colab": {
     "base_uri": "https://localhost:8080/"
    },
    "id": "7L4zubs8csJg",
    "outputId": "940ee306-6f67-433d-f7ac-8b8ec1fd46f6"
   },
   "outputs": [
    {
     "data": {
      "text/plain": [
       "array([0, 0, 1, ..., 0, 0, 0])"
      ]
     },
     "execution_count": 50,
     "metadata": {},
     "output_type": "execute_result"
    }
   ],
   "source": [
    "test_data_encode = encoder.transform(test_data)\n",
    "test_data_scaled = scaler.transform(test_data_encode)\n",
    "\n",
    "#Running Predictions on the test data\n",
    "test_preds = model.predict(test_data_scaled)\n",
    "test_preds\n"
   ]
  },
  {
   "cell_type": "code",
   "execution_count": null,
   "metadata": {
    "id": "3Ej_lXMYdC9P"
   },
   "outputs": [],
   "source": [
    "#Saving Test Presdictions\n",
    "test_predictions = pd.DataFrame(test_preds, columns = ['Income_Above_Limit'])\n",
    "test_predictions.to_csv('Sample_submission.csv')"
   ]
  },
  {
   "cell_type": "markdown",
   "metadata": {
    "id": "emcKJO6YxfCH"
   },
   "source": [
    "## Exporting Core Components"
   ]
  },
  {
   "cell_type": "code",
   "execution_count": null,
   "metadata": {
    "colab": {
     "base_uri": "https://localhost:8080/"
    },
    "id": "zoPx12jqdz9J",
    "outputId": "c48b1df7-82fa-44d1-fdb1-3d31eb1c97e2"
   },
   "outputs": [
    {
     "name": "stdout",
     "output_type": "stream",
     "text": [
      "Scaler exported to: /content/Assets/scaler.joblib\n",
      "Xgb Classifier exported to: /content/Assets/model.joblib\n"
     ]
    }
   ],
   "source": [
    "from joblib import dump\n",
    "# Get the current working directory\n",
    "cwd = os.getcwd()\n",
    "\n",
    "# Specify the relative path to the destination directory\n",
    "destination = os.path.join(cwd, \"Assets\")\n",
    "\n",
    "# Create the \"export\" directory if it doesn't exist\n",
    "os.makedirs(destination, exist_ok=True)\n",
    "\n",
    "# Export the scaler\n",
    "scaler_filepath = os.path.join(destination, \"scaler.joblib\")\n",
    "dump(scaler, scaler_filepath)\n",
    "\n",
    "# Export the random forest classifier\n",
    "model_filepath = os.path.join(destination, \"model.joblib\")\n",
    "dump(model, model_filepath)\n",
    "\n",
    "# Print the paths to the exported components\n",
    "print(f\"Scaler exported to: {scaler_filepath}\")\n",
    "print(f\"Xgb Classifier exported to: {model_filepath}\")"
   ]
  },
  {
   "cell_type": "code",
   "execution_count": null,
   "metadata": {
    "id": "wgnSyDvsd4F7"
   },
   "outputs": [],
   "source": [
    "#Exporting all libraries\n",
    "!pip list --format=freeze >Assets/requirements.txt"
   ]
  },
  {
   "cell_type": "code",
   "execution_count": null,
   "metadata": {
    "id": "93fJzb2vOzZv"
   },
   "outputs": [],
   "source": []
  },
  {
   "cell_type": "code",
   "execution_count": null,
   "metadata": {
    "id": "D7_PNZiE8wjm"
   },
   "outputs": [],
   "source": [
    "# #Dropping  columns\n",
    "# Cols2drop = ['ID', 'education_institute', 'is_hispanic',\n",
    "#        'employment_commitment',\n",
    "#        'unemployment_reason', 'employment_stat',\n",
    "#        'is_labor_union', 'industry_code',\n",
    "#        'industry_code_main', 'occupation_code','occupation_code_main'\n",
    "#        'total_employed', 'household_stat', 'household_summary',\n",
    "#        'under_18_family', 'veterans_admin_questionnaire', 'vet_benefit',\n",
    "#        'tax_status', 'stocks_status',\n",
    "#        'mig_year', 'country_of_birth_father',\n",
    "#        'country_of_birth_mother', 'migration_code_change_in_msa',\n",
    "#        'migration_prev_sunbelt', 'migration_code_move_within_reg',\n",
    "#        'migration_code_change_in_reg', 'residence_1_year_ago',\n",
    "#        'old_residence_reg', 'old_residence_state', 'importance_of_record']\n",
    "\n",
    "\n",
    "######### Feature set corresponding to train and test data\n",
    "# train_data = train_data.drop(Cols2drop,axis=1)\n",
    "# test_data = test_data.drop(Cols2drop,axis=1)"
   ]
  },
  {
   "cell_type": "code",
   "execution_count": null,
   "metadata": {
    "id": "36tnTOIL89j3"
   },
   "outputs": [],
   "source": [
    "# #Feature set corresponding to train and test data\n",
    "# print(colored(f'The shape of train data is    {train_data.shape}     ','green',attrs=['bold']))\n",
    "# print(colored(f'The shape of test data is     {test_data.shape}      ','blue',attrs=['bold']))\n",
    "# print(colored(f'The data types of train data are    {train_data.dtypes}      ','blue',attrs=['bold']))\n",
    "# print(colored(f'The data types of test data are     {test_data.dtypes}      ','blue',attrs=['bold']))\n",
    "# print('------------------------------------------------------------------------------')\n",
    "# print(colored('The train data looks like below :- \\n','green'))\n",
    "# display(train_data.head(5))\n",
    "# print('------------------------------------------------------------------------------')\n",
    "# print(colored('The test data looks like below :- \\n','blue'))\n",
    "# display(test_data.head(5))"
   ]
  },
  {
   "cell_type": "code",
   "execution_count": null,
   "metadata": {
    "id": "xKNMljUqfjQf"
   },
   "outputs": [],
   "source": [
    "# train_data['income_above_limit'].replace('Below limit', 0)\n",
    "# train_data['income_above_limit'].replace('Above limit', 1)\n",
    "\n",
    "# # Replace values in the 'income_above_limit' column\n",
    "# train_data['income_above_limit'] = train_data['income_above_limit'].replace('Below limit', 0)\n",
    "# train_data['income_above_limit'] = train_data['income_above_limit'].replace('Above limit', 1)\n",
    "\n",
    "# # Verify the updated value counts\n",
    "# print(train_data['income_above_limit'].value_counts())\n"
   ]
  },
  {
   "cell_type": "markdown",
   "metadata": {
    "id": "r9w1HGCRSHwC"
   },
   "source": []
  },
  {
   "cell_type": "markdown",
   "metadata": {
    "id": "coPD_tDTHfTh"
   },
   "source": [
    "#EDA"
   ]
  },
  {
   "cell_type": "code",
   "execution_count": null,
   "metadata": {
    "id": "F6LVmr9bHex4"
   },
   "outputs": [],
   "source": [
    "# train_data.hist(figsize=(12,12), sharex=False);"
   ]
  },
  {
   "cell_type": "code",
   "execution_count": null,
   "metadata": {
    "id": "d6izBDNEPKlh"
   },
   "outputs": [],
   "source": [
    "# train_data.plot(kind = 'box', figsize=(12,12),layout=(3,14), sharex=False, subplots=True);"
   ]
  },
  {
   "cell_type": "code",
   "execution_count": null,
   "metadata": {
    "id": "_whWlw5lOv9Q"
   },
   "outputs": [],
   "source": [
    "# sns.heatmap(train_data.corr(), annot=True);"
   ]
  },
  {
   "cell_type": "code",
   "execution_count": null,
   "metadata": {
    "id": "REtkU1xxPYug"
   },
   "outputs": [],
   "source": [
    "\n",
    "# # Calculate the percentage of each education level\n",
    "# education_percentages = train_data['education'].value_counts(normalize=True) * 100\n",
    "\n",
    "# # Create a pie chart using Plotly Express\n",
    "# fig = px.pie(\n",
    "#     values=education_percentages.values,\n",
    "#     names=education_percentages.index,\n",
    "#     title='Percentage of Education Levels'\n",
    ")\n",
    "fig.show();"
   ]
  },
  {
   "cell_type": "code",
   "execution_count": null,
   "metadata": {
    "id": "3QxOz9OBSOxd"
   },
   "outputs": [],
   "source": [
    "\n",
    "# # Create a scatter plot using Plotly Express\n",
    "# fig = px.scatter(train_data, x='working_week_per_year', y='gains', color='gender',\n",
    "#                  title=\"Scatter Plot of Gains vs. Working Week per Year by Gender\",\n",
    "#                  labels={'working_week_per_year': 'Working Week per Year', 'gains': 'Gains'},\n",
    "#                  hover_data=['gender'])\n",
    "\n",
    "# # Show the plot\n",
    "# fig.show();"
   ]
  },
  {
   "cell_type": "code",
   "execution_count": null,
   "metadata": {
    "id": "QREmPJ0Cyuqu"
   },
   "outputs": [],
   "source": [
    "# train_data['occupation_code_main'].value_counts()"
   ]
  },
  {
   "cell_type": "code",
   "execution_count": null,
   "metadata": {
    "id": "-uv_fOl7T5qm"
   },
   "outputs": [],
   "source": [
    "# import plotly.express as px\n",
    "\n",
    "# # Create a bar chart for occupation_code_main\n",
    "# fig = px.bar(train_data, x='occupation_code_main', title='Occupation Code Distribution')\n",
    "# fig.update_xaxes(title_text='Occupation Code')\n",
    "# fig.update_yaxes(title_text='Count')\n",
    "\n",
    "# # Count the occurrences of each occupation code\n",
    "# occupation_counts = train_data['occupation_code_main'].value_counts().reset_index()\n",
    "# occupation_counts.columns = ['occupation_code_main', 'count']\n",
    "\n",
    "# # Update the data for the chart\n",
    "# fig.data[0].x = occupation_counts['occupation_code_main']\n",
    "# fig.data[0].y = occupation_counts['count']\n",
    "\n",
    "# fig.show()\n",
    "\n"
   ]
  },
  {
   "cell_type": "code",
   "execution_count": null,
   "metadata": {
    "id": "q3jM0Z7qXVch"
   },
   "outputs": [],
   "source": [
    "\n",
    "# Create a grouped bar chart for occupation_code_main and income_above_limit\n",
    "fig = px.histogram(train_data, x='occupation_code_main', color='income_above_limit',\n",
    "             title='Occupation Code Distribution by Income Level',\n",
    "             labels={'income_above_limit': 'Income Above Limit'})\n",
    "\n",
    "fig.update_xaxes(title_text='Occupation Code')\n",
    "fig.update_yaxes(title_text='Count')\n",
    "\n",
    "fig.show()\n"
   ]
  },
  {
   "cell_type": "code",
   "execution_count": null,
   "metadata": {
    "id": "cOpnj05SR6mD"
   },
   "outputs": [],
   "source": [
    "train_data.education.value_counts()"
   ]
  },
  {
   "cell_type": "code",
   "execution_count": null,
   "metadata": {
    "id": "IbxpRjrvYS00"
   },
   "outputs": [],
   "source": [
    "import plotly.express as px\n",
    "\n",
    "# Create a histogram for occupation_code_main, education, and income_above_limit\n",
    "fig = px.histogram(train_data, x='occupation_code_main', color='education', facet_col='income_above_limit',\n",
    "                   title='Occupation Code and Education Distribution by Income Level',\n",
    "                   labels={'education': 'Education Level', 'income_above_limit': 'Income Above Limit'})\n",
    "\n",
    "fig.update_xaxes(title_text='Occupation Code')\n",
    "fig.update_yaxes(title_text='Count')\n",
    "\n",
    "fig.show()\n"
   ]
  },
  {
   "cell_type": "code",
   "execution_count": null,
   "metadata": {
    "id": "j3eHwsyh73-0"
   },
   "outputs": [],
   "source": [
    "########### Encoding the target column\n",
    "\n",
    "target_column['income_above_limit'] = target_column['income_above_limit'].map({'Above limit':1,'Below limit':0})\n",
    "target_column['income_above_limit'].value_counts()"
   ]
  },
  {
   "cell_type": "markdown",
   "metadata": {
    "id": "byp_aLuO0GVI"
   },
   "source": [
    "Gender and Income Level check"
   ]
  },
  {
   "cell_type": "code",
   "execution_count": null,
   "metadata": {
    "id": "Rdn5DzQe0LLE"
   },
   "outputs": [],
   "source": [
    "#sns.countplot(train_data['income_above_limit'], palette='husl', hue='gender', data=train_data);\n",
    "# Create a count plot for income_above_limit with hue based on gender\n",
    "sns.countplot(data=train_data, x='income_above_limit', hue='gender', palette='Blues')\n",
    "\n",
    "# Set plot labels and title\n",
    "plt.xlabel('Income Above Limit')\n",
    "plt.ylabel('Count')\n",
    "plt.title('Income Above Limit Count by Gender')\n",
    "\n",
    "# Show the plot\n",
    "plt.show()\n"
   ]
  }
 ],
 "metadata": {
  "colab": {
   "include_colab_link": true,
   "provenance": []
  },
  "kernelspec": {
   "display_name": "Python 3 (ipykernel)",
   "language": "python",
   "name": "python3"
  },
  "language_info": {
   "codemirror_mode": {
    "name": "ipython",
    "version": 3
   },
   "file_extension": ".py",
   "mimetype": "text/x-python",
   "name": "python",
   "nbconvert_exporter": "python",
   "pygments_lexer": "ipython3",
   "version": "3.11.1"
  }
 },
 "nbformat": 4,
 "nbformat_minor": 1
}
